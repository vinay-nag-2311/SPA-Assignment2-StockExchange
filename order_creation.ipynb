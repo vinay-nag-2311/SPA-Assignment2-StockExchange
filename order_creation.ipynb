{
 "cells": [
  {
   "cell_type": "code",
   "execution_count": null,
   "metadata": {},
   "outputs": [],
   "source": [
    "# import findspark\n",
    "# findspark.init()\n",
    "# from pyspark.sql import SparkSession\n",
    "# spark = SparkSession.builder.appName(\"stock_exchange\").getOrCreate()"
   ]
  },
  {
   "cell_type": "code",
   "execution_count": null,
   "metadata": {},
   "outputs": [],
   "source": [
    "# pip install yfinance"
   ]
  },
  {
   "cell_type": "code",
   "execution_count": null,
   "metadata": {},
   "outputs": [],
   "source": [
    "# pip install pandas_datareader"
   ]
  },
  {
   "cell_type": "code",
   "execution_count": null,
   "metadata": {},
   "outputs": [],
   "source": [
    "# pip install --upgrade kiteconnect"
   ]
  },
  {
   "cell_type": "code",
   "execution_count": null,
   "metadata": {},
   "outputs": [],
   "source": [
    "# pip install -U pyopenssl"
   ]
  },
  {
   "cell_type": "code",
   "execution_count": null,
   "metadata": {},
   "outputs": [],
   "source": [
    "# pip install --upgrade attrs"
   ]
  },
  {
   "cell_type": "code",
   "execution_count": null,
   "metadata": {},
   "outputs": [],
   "source": [
    "# pip install kafka-python"
   ]
  },
  {
   "cell_type": "code",
   "execution_count": null,
   "metadata": {},
   "outputs": [],
   "source": [
    "# import logging\n",
    "# from kiteconnect import KiteConnect\n",
    "\n",
    "\n",
    "# logging.basicConfig(level=logging.DEBUG)"
   ]
  },
  {
   "cell_type": "code",
   "execution_count": null,
   "metadata": {},
   "outputs": [],
   "source": [
    "\n",
    "# kite = KiteConnect(api_key=\"your_api_key\")\n",
    "\n",
    "# Redirect the user to the login url obtained\n",
    "# from kite.login_url(), and receive the request_token\n",
    "# from the registered redirect url after the login flow.\n",
    "# Once you have the request_token, obtain the access_token\n",
    "# as follows.\n"
   ]
  },
  {
   "cell_type": "code",
   "execution_count": null,
   "metadata": {},
   "outputs": [],
   "source": [
    "# data = kite.generate_session(\"request_token_here\", api_secret=\"your_secret\")\n",
    "# kite.set_access_token(data[\"access_token\"])\n"
   ]
  },
  {
   "cell_type": "code",
   "execution_count": null,
   "metadata": {},
   "outputs": [],
   "source": [
    "# # Place an order\n",
    "# try:\n",
    "#     order_id = kite.place_order(tradingsymbol=\"INFY\",\n",
    "#                                 exchange=kite.EXCHANGE_NSE,\n",
    "#                                 transaction_type=kite.TRANSACTION_TYPE_BUY,\n",
    "#                                 quantity=1,\n",
    "#                                 variety=kite.VARIETY_AMO,\n",
    "#                                 order_type=kite.ORDER_TYPE_MARKET,\n",
    "#                                 product=kite.PRODUCT_CNC,\n",
    "#                                 validity=kite.VALIDITY_DAY)\n",
    "\n",
    "#     logging.info(\"Order placed. ID is: {}\".format(order_id))\n",
    "# except Exception as e:\n",
    "#     logging.info(\"Order placement failed: {}\".format(e.message))\n",
    "\n",
    "# # Fetch all orders\n",
    "# kite.orders()\n",
    "\n",
    "# # Get instruments\n",
    "# kite.instruments()\n",
    "\n",
    "# # Place an mutual fund order\n",
    "# kite.place_mf_order(\n",
    "#     tradingsymbol=\"INF090I01239\",\n",
    "#     transaction_type=kite.TRANSACTION_TYPE_BUY,\n",
    "#     amount=5000,\n",
    "#     tag=\"mytag\"\n",
    "# )\n",
    "\n",
    "# # Cancel a mutual fund order\n",
    "# kite.cancel_mf_order(order_id=\"order_id\")\n",
    "\n",
    "# # Get mutual fund instruments\n",
    "# kite.mf_instruments()"
   ]
  },
  {
   "cell_type": "code",
   "execution_count": null,
   "metadata": {},
   "outputs": [],
   "source": [
    "# For reading stock data from yahoo\n",
    "from pandas_datareader.data import DataReader\n",
    "import yfinance as yf\n",
    "from pandas_datareader import data as pdr\n",
    "from datetime import datetime\n",
    "import pandas as pd\n",
    "import matplotlib.pyplot as plt\n"
   ]
  },
  {
   "cell_type": "code",
   "execution_count": null,
   "metadata": {},
   "outputs": [],
   "source": [
    "# The tech stocks we'll use for this analysis\n",
    "tech_list = ['AAPL']\n",
    "# Set up End and Start times for data grab\n",
    "tech_list = ['AAPL']\n",
    "\n",
    "end = datetime.now()\n",
    "start = datetime(end.year - 1, end.month, end.day)\n",
    "\n",
    "for stock in tech_list:\n",
    "    globals()[stock] = yf.download(stock, start, end)\n",
    "    \n",
    "\n",
    "company_list = [AAPL]\n",
    "company_name = [\"APPLE\"]\n",
    "\n",
    "for company, com_name in zip(company_list, company_name):\n",
    "    company[\"company_name\"] = com_name\n",
    "    \n",
    "df = pd.concat(company_list, axis=0)\n",
    "df.tail(10)"
   ]
  },
  {
   "cell_type": "code",
   "execution_count": null,
   "metadata": {},
   "outputs": [],
   "source": [
    "AAPL"
   ]
  },
  {
   "cell_type": "code",
   "execution_count": null,
   "metadata": {},
   "outputs": [],
   "source": [
    "# Let's see a historical view of the closing price\n",
    "plt.figure(figsize=(15, 10))\n",
    "plt.subplots_adjust(top=1.25, bottom=1.2)\n",
    "\n",
    "for i, company in enumerate(company_list, 1):\n",
    "    plt.subplot(2, 2, i)\n",
    "    company['Adj Close'].plot()\n",
    "    plt.ylabel('Adj Close')\n",
    "    plt.xlabel(None)\n",
    "    plt.title(f\"Closing Price of {tech_list[i - 1]}\")\n",
    "    \n",
    "plt.tight_layout()"
   ]
  },
  {
   "cell_type": "code",
   "execution_count": null,
   "metadata": {},
   "outputs": [],
   "source": [
    "df_sample = yf.download(\"AMZN AAPL\", start, end)\n",
    "df_sample.head()\n"
   ]
  },
  {
   "cell_type": "code",
   "execution_count": null,
   "metadata": {},
   "outputs": [],
   "source": [
    "yf.download(tickers='INFY', period='1d', interval='1m')"
   ]
  },
  {
   "cell_type": "code",
   "execution_count": null,
   "metadata": {},
   "outputs": [],
   "source": [
    "# buyer and seller\n",
    "# assurance of stock trade\n",
    "# instrument is just the stock\n",
    "# multiple orders can get collected\n",
    "\n",
    "## generate all of these orders - 4 instruments - buyer sellers random data - write a Producer data\n",
    "\n",
    "## Keep track of buy and sell orders - match buy to a sell\n",
    "# this will keep on happening - once buy and sell matches it will result in a trade\n",
    "\n",
    "## Keep track of trades and take 10minute trade windows for profit and SMA calc\n",
    "\n",
    "# Output can be shown on console, write to file or anything is fine - meaningful format\n"
   ]
  },
  {
   "cell_type": "code",
   "execution_count": null,
   "metadata": {},
   "outputs": [],
   "source": [
    "# importing the required modules  \n",
    "import json\n",
    "from json import loads\n",
    "from time import sleep\n",
    "from json import dumps\n",
    "from kafka import KafkaProducer\n"
   ]
  },
  {
   "cell_type": "code",
   "execution_count": null,
   "metadata": {},
   "outputs": [],
   "source": [
    "from faker import Faker\n",
    "import random\n",
    "from faker.providers import BaseProvider\n",
    "from datetime import datetime\n",
    "import time"
   ]
  },
  {
   "cell_type": "code",
   "execution_count": null,
   "metadata": {},
   "outputs": [],
   "source": [
    "# Kafka producer configuration\n",
    "producer = KafkaProducer(bootstrap_servers=['0.0.0.0:9092'],\n",
    "                         value_serializer=lambda m: json.dumps(m).encode('ascii'))\n",
    "\n",
    "# producer.send(\"test-topic\",\n",
    "#     value={\"message\": \"hello world\"}\n",
    "# )\n",
    "# producer.flush()\n"
   ]
  },
  {
   "cell_type": "code",
   "execution_count": null,
   "metadata": {},
   "outputs": [],
   "source": [
    "fake = Faker()\n",
    "\n",
    "# Create required fields with values\n",
    "class InstrumentProvider(BaseProvider):\n",
    "    def instr_name(self):\n",
    "        instr_names = [\"RIL\", \"INFY\", \"ONGC\", \"TCS\"]\n",
    "        return instr_names[random.randint(0,len(instr_names)-1)]\n",
    "    \n",
    "    def trxn_type(self):\n",
    "        trxn_type = [\"BUY\", \"SELL\"]\n",
    "        return trxn_type[random.randint(0,len(trxn_type)-1)]\n",
    "    \n",
    "    def exchange(self):\n",
    "        trxn_type = [\"NSE\", \"BSE\"]\n",
    "        return trxn_type[random.randint(0,len(trxn_type)-1)]\n",
    "\n",
    "fake.add_provider(InstrumentProvider)"
   ]
  },
  {
   "cell_type": "code",
   "execution_count": null,
   "metadata": {},
   "outputs": [],
   "source": [
    "# creating function to generate the Order\n",
    "def produce_order(orderid=1):\n",
    "    instrument = fake.instr_name()\n",
    "    trxn_type = fake.trxn_type()\n",
    "    quantity = round(random.uniform(2, 5), 0)\n",
    "    price = round(random.uniform(10, 20), 0)\n",
    "    order_ts = datetime.now().strftime(\"%Y/%m/%d, %H:%M:%S\")\n",
    "    \n",
    "    # message\n",
    "    message = {\n",
    "        'id': orderid+1000000,\n",
    "        'instrument': instrument,\n",
    "        'trxn_type': trxn_type,\n",
    "        'quantity': quantity,\n",
    "        'price': price,\n",
    "        'order_timestamp': order_ts,\n",
    "    }\n",
    "    return message\n",
    "\n"
   ]
  },
  {
   "cell_type": "code",
   "execution_count": null,
   "metadata": {},
   "outputs": [],
   "source": [
    "# produce_order(8)"
   ]
  },
  {
   "cell_type": "code",
   "execution_count": null,
   "metadata": {},
   "outputs": [],
   "source": [
    "# Produce buy/sell orders\n",
    "i=1\n",
    "while i < 1000:\n",
    "    message = produce_order(i)\n",
    "\n",
    "    print(\"Sending: {}\".format(message))\n",
    "    # sending the message to Kafka\n",
    "    producer.send(\"stock_exchange_orders\",\n",
    "                  value=message)\n",
    "    # 1 seconds of sleep time before the next message\n",
    "    time.sleep(0.5)\n",
    "\n",
    "    # Force sending of all messages\n",
    "    if (i % 100) == 0:\n",
    "        producer.flush()\n",
    "    i=i+1\n",
    "producer.flush()"
   ]
  },
  {
   "cell_type": "code",
   "execution_count": null,
   "metadata": {},
   "outputs": [],
   "source": []
  },
  {
   "cell_type": "code",
   "execution_count": null,
   "metadata": {},
   "outputs": [],
   "source": []
  }
 ],
 "metadata": {
  "kernelspec": {
   "display_name": "Python 3",
   "language": "python",
   "name": "python3"
  },
  "language_info": {
   "codemirror_mode": {
    "name": "ipython",
    "version": 3
   },
   "file_extension": ".py",
   "mimetype": "text/x-python",
   "name": "python",
   "nbconvert_exporter": "python",
   "pygments_lexer": "ipython3",
   "version": "3.7.6"
  }
 },
 "nbformat": 4,
 "nbformat_minor": 4
}
