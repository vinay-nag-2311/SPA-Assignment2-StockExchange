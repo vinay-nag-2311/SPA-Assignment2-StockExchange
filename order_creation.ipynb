{
 "cells": [
  {
   "cell_type": "code",
   "execution_count": null,
   "metadata": {},
   "outputs": [],
   "source": [
    "# importing the required modules  \n",
    "import json\n",
    "from json import loads\n",
    "from time import sleep\n",
    "from json import dumps\n",
    "from kafka import KafkaProducer\n"
   ]
  },
  {
   "cell_type": "code",
   "execution_count": null,
   "metadata": {},
   "outputs": [],
   "source": [
    "from faker import Faker\n",
    "import random\n",
    "from faker.providers import BaseProvider\n",
    "from datetime import datetime\n",
    "import time"
   ]
  },
  {
   "cell_type": "code",
   "execution_count": null,
   "metadata": {},
   "outputs": [],
   "source": [
    "# Kafka producer configuration\n",
    "producer = KafkaProducer(bootstrap_servers=['0.0.0.0:9092'],\n",
    "                         value_serializer=lambda m: json.dumps(m).encode('ascii'))\n"
   ]
  },
  {
   "cell_type": "code",
   "execution_count": null,
   "metadata": {},
   "outputs": [],
   "source": [
    "fake = Faker()\n",
    "\n",
    "# Create required fields with values\n",
    "class InstrumentProvider(BaseProvider):\n",
    "    def instr_name(self):\n",
    "        instr_names = [\"RIL\", \"INFY\", \"ONGC\", \"TCS\"]\n",
    "        return instr_names[random.randint(0,len(instr_names)-1)]\n",
    "    \n",
    "    def trxn_type(self):\n",
    "        trxn_type = [\"BUY\", \"SELL\"]\n",
    "        return trxn_type[random.randint(0,len(trxn_type)-1)]\n",
    "    \n",
    "    def exchange(self):\n",
    "        trxn_type = [\"NSE\", \"BSE\"]\n",
    "        return trxn_type[random.randint(0,len(trxn_type)-1)]\n",
    "\n",
    "fake.add_provider(InstrumentProvider)"
   ]
  },
  {
   "cell_type": "code",
   "execution_count": null,
   "metadata": {},
   "outputs": [],
   "source": [
    "# creating function to generate the Order\n",
    "def produce_order(orderid=1):\n",
    "    instrument = fake.instr_name()\n",
    "    trxn_type = fake.trxn_type()\n",
    "    quantity = round(random.uniform(2, 5), 0)\n",
    "    price = round(random.uniform(10, 20), 0)\n",
    "    order_ts = datetime.now().strftime(\"%Y/%m/%d, %H:%M:%S\")\n",
    "    \n",
    "    # message\n",
    "    message = {\n",
    "        'id': orderid+1000000,\n",
    "        'instrument': instrument,\n",
    "        'trxn_type': trxn_type,\n",
    "        'quantity': quantity,\n",
    "        'price': price,\n",
    "        'order_timestamp': order_ts,\n",
    "    }\n",
    "    return message\n",
    "\n",
    "# produce_order(8)\n"
   ]
  },
  {
   "cell_type": "code",
   "execution_count": null,
   "metadata": {},
   "outputs": [],
   "source": [
    "# Produce buy/sell orders\n",
    "i=1\n",
    "while i < 1200:\n",
    "    message = produce_order(i)\n",
    "\n",
    "    print(\"Sending: {}\".format(message))\n",
    "    # sending the message to Kafka\n",
    "    producer.send(\"stock_exchange_orders\",\n",
    "                  value=message)\n",
    "    # 1 seconds of sleep time before the next message\n",
    "    time.sleep(0.5)\n",
    "\n",
    "    # Force sending of all messages\n",
    "    if (i % 100) == 0:\n",
    "        producer.flush()\n",
    "    i=i+1\n",
    "producer.flush()"
   ]
  },
  {
   "cell_type": "code",
   "execution_count": null,
   "metadata": {},
   "outputs": [],
   "source": []
  }
 ],
 "metadata": {
  "kernelspec": {
   "display_name": "Python 3",
   "language": "python",
   "name": "python3"
  },
  "language_info": {
   "codemirror_mode": {
    "name": "ipython",
    "version": 3
   },
   "file_extension": ".py",
   "mimetype": "text/x-python",
   "name": "python",
   "nbconvert_exporter": "python",
   "pygments_lexer": "ipython3",
   "version": "3.7.6"
  }
 },
 "nbformat": 4,
 "nbformat_minor": 4
}
