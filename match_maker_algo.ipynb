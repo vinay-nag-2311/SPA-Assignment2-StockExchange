{
 "cells": [
  {
   "cell_type": "code",
   "execution_count": null,
   "metadata": {},
   "outputs": [],
   "source": [
    "# importing the required modules  \n",
    "import json\n",
    "from json import loads\n",
    "from time import sleep\n",
    "from json import dumps\n",
    "from kafka import KafkaConsumer, KafkaProducer\n",
    "import pandas as pd\n",
    "from datetime import datetime\n",
    "import os"
   ]
  },
  {
   "cell_type": "code",
   "execution_count": null,
   "metadata": {},
   "outputs": [],
   "source": [
    "# Kafka Consumer  \n",
    "order_consumer = KafkaConsumer(  \n",
    "    'stock_exchange_orders',  \n",
    "    bootstrap_servers = ['localhost : 9092'],\n",
    "    # auto_offset_reset='earliest',\n",
    "    value_deserializer = lambda x : loads(x.decode('utf-8'))  \n",
    ")\n",
    "\n",
    "# Kafka producer configuration\n",
    "trade_producer = KafkaProducer(bootstrap_servers=['0.0.0.0:9092'],\n",
    "                         value_serializer=lambda m: json.dumps(m).encode('ascii'))\n"
   ]
  },
  {
   "cell_type": "code",
   "execution_count": null,
   "metadata": {},
   "outputs": [],
   "source": [
    "# Initialise major variables\n",
    "df_buy = pd.DataFrame()\n",
    "df_sell = pd.DataFrame()\n",
    "df_match = pd.DataFrame()\n",
    "df_success_trades = pd.DataFrame()\n",
    "\n",
    "for message in order_consumer:\n",
    "    # message = message.value \n",
    "    # print(message)\n",
    "    df_iter = pd.json_normalize(message.value)\n",
    "    trnx_type_tmp = df_iter.iloc[0][\"trxn_type\"]\n",
    "    \n",
    "    # split into buy/sell orders\n",
    "    if trnx_type_tmp == \"BUY\":\n",
    "        df_buy = df_buy.append(df_iter)\n",
    "    else:\n",
    "        df_sell = df_sell.append(df_iter)\n",
    "    \n",
    "    if (df_buy.shape[0] > 1) & (df_sell.shape[0] > 1):\n",
    "        df_match = df_buy.merge(\n",
    "            df_sell.drop(\"order_timestamp\", axis=1).rename(columns = {'id':'id_sell'}), \n",
    "            on=[\"instrument\", \"quantity\", \"price\"], \n",
    "            how=\"inner\"\n",
    "        )\n",
    "    \n",
    "    if df_match.shape[0] > 1:\n",
    "        print(\"Order matched!\")\n",
    "        \n",
    "        ############################ \n",
    "        # Match Maker Algorithm\n",
    "        ############################\n",
    "        \n",
    "        # eliminate multiple matches\n",
    "        df_match = df_match.drop_duplicates([\"instrument\", \"quantity\", \"price\"])\n",
    "        df_match_merge_buy = df_buy.merge(\n",
    "            df_match[[\"id\"]], how = 'outer', indicator = True\n",
    "        )\n",
    "        df_buy = df_match_merge_buy[\n",
    "            (df_match_merge_buy._merge == 'left_only')\n",
    "        ].drop('_merge', axis = 1)\n",
    "        \n",
    "        df_match_merge_sell = df_sell.merge(\n",
    "            df_match[[\"id_sell\"]].rename(columns = {'id_sell':'id'}), \n",
    "            how = 'outer', indicator = True\n",
    "        )\n",
    "        df_sell = df_match_merge_sell[\n",
    "            (df_match_merge_sell._merge == 'left_only')\n",
    "        ].drop('_merge', axis = 1)\n",
    "        \n",
    "        # Write successful orders into csv\n",
    "        df_match[\"update_timestamp\"] = datetime.now().strftime(\"%Y/%m/%d, %H:%M:%S\")\n",
    "        df_match = df_match[\n",
    "            [\"id\", \"id_sell\", \"instrument\", \"quantity\", \"price\", \"update_timestamp\"]\n",
    "        ]\n",
    "        output_path = \"outputs/successful_orders.csv\"\n",
    "        df_match.to_csv(\n",
    "            output_path, \n",
    "            header=not os.path.exists(output_path), \n",
    "            index=False, mode='a'\n",
    "        )\n",
    "        \n",
    "        # Publish trades to successful_trade topic\n",
    "        result = df_match.to_json(orient=\"records\")\n",
    "        parsed = json.loads(result)\n",
    "        trade_producer.send(\"successful_trade\",\n",
    "                 value=parsed)\n",
    "        \n",
    "        # Refresh df_match\n",
    "        df_match = pd.DataFrame()\n",
    "        "
   ]
  },
  {
   "cell_type": "code",
   "execution_count": null,
   "metadata": {},
   "outputs": [],
   "source": [
    "# df_buy.head()"
   ]
  },
  {
   "cell_type": "code",
   "execution_count": null,
   "metadata": {},
   "outputs": [],
   "source": []
  }
 ],
 "metadata": {
  "kernelspec": {
   "display_name": "Python 3",
   "language": "python",
   "name": "python3"
  },
  "language_info": {
   "codemirror_mode": {
    "name": "ipython",
    "version": 3
   },
   "file_extension": ".py",
   "mimetype": "text/x-python",
   "name": "python",
   "nbconvert_exporter": "python",
   "pygments_lexer": "ipython3",
   "version": "3.7.6"
  }
 },
 "nbformat": 4,
 "nbformat_minor": 4
}
