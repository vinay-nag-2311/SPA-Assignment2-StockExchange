{
 "cells": [
  {
   "cell_type": "code",
   "execution_count": null,
   "metadata": {},
   "outputs": [],
   "source": [
    "# importing the required modules  \n",
    "import json\n",
    "from json import loads\n",
    "from time import sleep\n",
    "from json import dumps\n",
    "from kafka import KafkaConsumer\n",
    "import pandas as pd\n",
    "from datetime import datetime\n",
    "import os\n"
   ]
  },
  {
   "cell_type": "code",
   "execution_count": null,
   "metadata": {},
   "outputs": [],
   "source": [
    "# Kafka Consumer  \n",
    "trade_consumer = KafkaConsumer(  \n",
    "    'successful_trade',  \n",
    "     bootstrap_servers = ['localhost : 9092'],\n",
    "     value_deserializer = lambda x : loads(x.decode('utf-8'))  \n",
    ")\n"
   ]
  },
  {
   "cell_type": "code",
   "execution_count": null,
   "metadata": {},
   "outputs": [],
   "source": [
    "df = pd.DataFrame()\n",
    "\n",
    "for message in trade_consumer:\n",
    "    df_iter = pd.json_normalize(message.value)\n",
    "    df_iter = df_iter.drop([\"id\", \"id_sell\"], axis=1)\n",
    "    df_iter['update_timestamp'] = pd.to_datetime(df_iter['update_timestamp'])\n",
    "    df = df.append(\n",
    "        df_iter, \n",
    "        ignore_index=True\n",
    "    )\n",
    "    df[\"price_qty_product\"] = df['price']*df['quantity']\n",
    "    \n",
    "    window_size = 4\n",
    "    \n",
    "    resampled_data = df.groupby('instrument').resample(\n",
    "        '2T', on='update_timestamp'\n",
    "    ).agg({\n",
    "        'price': ['first'],\n",
    "        'price_qty_product': ['sum'],\n",
    "        'quantity': ['sum'],\n",
    "    })\n",
    "    \n",
    "    # calculate closing prices\n",
    "    resampled_data[\"closing_price\"] = resampled_data['price_qty_product']/resampled_data['quantity']\n",
    "    resampled_data[\"closing_price\"] = resampled_data.groupby([\"instrument\"])[\n",
    "        \"closing_price\"\n",
    "    ].transform(\n",
    "        lambda x: x.rolling(window=window_size, min_periods=1).mean()\n",
    "    )\n",
    "\n",
    "    resampled_data.columns = [\"price\", \"price_qty_product\", \"quantity\", \"closing_price\"]\n",
    "\n",
    "    resampled_data[\"opening_price\"] = resampled_data.groupby([\"instrument\"])[\n",
    "        \"price\"\n",
    "    ].transform(\n",
    "        lambda x: x.rolling(window=window_size, min_periods=1).apply(lambda x: x[0])\n",
    "    )\n",
    "    \n",
    "    # calculate profits\n",
    "    resampled_data[\"profit\"] = resampled_data[\"closing_price\"] - resampled_data[\"opening_price\"]\n",
    "    \n",
    "    output_path = \"outputs/profit_calc.csv\"\n",
    "    resampled_data.to_csv(\n",
    "            output_path, \n",
    "            header=True,\n",
    "        )\n",
    "    "
   ]
  },
  {
   "cell_type": "code",
   "execution_count": null,
   "metadata": {},
   "outputs": [],
   "source": []
  }
 ],
 "metadata": {
  "kernelspec": {
   "display_name": "Python 3",
   "language": "python",
   "name": "python3"
  },
  "language_info": {
   "codemirror_mode": {
    "name": "ipython",
    "version": 3
   },
   "file_extension": ".py",
   "mimetype": "text/x-python",
   "name": "python",
   "nbconvert_exporter": "python",
   "pygments_lexer": "ipython3",
   "version": "3.7.6"
  }
 },
 "nbformat": 4,
 "nbformat_minor": 4
}
