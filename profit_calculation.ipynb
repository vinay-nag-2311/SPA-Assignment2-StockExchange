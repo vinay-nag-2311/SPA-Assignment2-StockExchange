{
 "cells": [
  {
   "cell_type": "code",
   "execution_count": 1,
   "metadata": {},
   "outputs": [],
   "source": [
    "# importing the required modules  \n",
    "import json\n",
    "from json import loads\n",
    "from time import sleep\n",
    "from json import dumps\n",
    "from kafka import KafkaConsumer\n",
    "import pandas as pd\n",
    "from datetime import datetime\n",
    "import os\n",
    "import matplotlib.pyplot as plt\n",
    "# import matplotlib\n",
    "# matplotlib.use('Qt5Agg')\n",
    "\n"
   ]
  },
  {
   "cell_type": "code",
   "execution_count": 2,
   "metadata": {},
   "outputs": [],
   "source": [
    "# Kafka Consumer  \n",
    "trade_consumer = KafkaConsumer(  \n",
    "    'successful_trade',  \n",
    "     bootstrap_servers = ['localhost : 9092'],\n",
    "     value_deserializer = lambda x : loads(x.decode('utf-8'))  \n",
    ")\n",
    "\n"
   ]
  },
  {
   "cell_type": "code",
   "execution_count": null,
   "metadata": {},
   "outputs": [],
   "source": [
    "df = pd.DataFrame()\n",
    "\n",
    "for message in trade_consumer:\n",
    "    df_iter = pd.json_normalize(message.value)\n",
    "    df_iter = df_iter.drop([\"id\", \"id_sell\", \"quantity\"], axis=1)\n",
    "    df_iter['update_timestamp'] = pd.to_datetime(df_iter['update_timestamp'])\n",
    "    df = df.append(\n",
    "        df_iter, \n",
    "        ignore_index=True\n",
    "    )\n",
    "    resampled_data = df.groupby('instrument').resample(\n",
    "        '2T', on='update_timestamp'\n",
    "    ).last().drop(\n",
    "        [\"instrument\", \"update_timestamp\"], axis=1\n",
    "    )\n",
    "    window_size = 4\n",
    "    resampled_data[\"sma\"] = resampled_data.groupby([\"instrument\"])[\"price\"].transform(\n",
    "        lambda x: x.rolling(window=window_size, min_periods=1).mean()\n",
    "    )\n",
    "    output_path = \"outputs/sma_calc.csv\"\n",
    "    resampled_data.to_csv(\n",
    "            output_path, \n",
    "            header=True,\n",
    "        )"
   ]
  }
 ],
 "metadata": {
  "kernelspec": {
   "display_name": "Python 3",
   "language": "python",
   "name": "python3"
  },
  "language_info": {
   "codemirror_mode": {
    "name": "ipython",
    "version": 3
   },
   "file_extension": ".py",
   "mimetype": "text/x-python",
   "name": "python",
   "nbconvert_exporter": "python",
   "pygments_lexer": "ipython3",
   "version": "3.7.6"
  }
 },
 "nbformat": 4,
 "nbformat_minor": 4
}
